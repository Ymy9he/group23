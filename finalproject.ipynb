{
  "nbformat": 4,
  "nbformat_minor": 0,
  "metadata": {
    "colab": {
      "provenance": [],
      "toc_visible": true,
      "include_colab_link": true
    },
    "kernelspec": {
      "name": "python3",
      "display_name": "Python 3"
    },
    "language_info": {
      "name": "python"
    }
  },
  "cells": [
    {
      "cell_type": "markdown",
      "metadata": {
        "id": "view-in-github",
        "colab_type": "text"
      },
      "source": [
        "<a href=\"https://colab.research.google.com/github/Ymy9he/group23/blob/main/finalproject.ipynb\" target=\"_parent\"><img src=\"https://colab.research.google.com/assets/colab-badge.svg\" alt=\"Open In Colab\"/></a>"
      ]
    },
    {
      "cell_type": "code",
      "execution_count": 106,
      "metadata": {
        "id": "gIDO7jNJJMfq"
      },
      "outputs": [],
      "source": [
        "import pandas as pd\n",
        "from sklearn.model_selection import train_test_split\n",
        "from sklearn.preprocessing import StandardScaler, OneHotEncoder\n",
        "from sklearn.neighbors import KNeighborsClassifier\n",
        "from sklearn.metrics import classification_report, confusion_matrix, accuracy_score\n",
        "from sklearn.impute import SimpleImputer\n",
        "from sklearn.ensemble import RandomForestClassifier, GradientBoostingClassifier\n",
        "from sklearn.utils import resample\n",
        "import seaborn as sns\n"
      ]
    },
    {
      "cell_type": "code",
      "source": [
        "# read in the data\n",
        "df_train =pd.read_csv('/content/training_data.csv.crdownload')\n",
        "df_test =pd.read_csv('/content/testing_data.csv.crdownload')"
      ],
      "metadata": {
        "id": "HHVI3DiHQWkB"
      },
      "execution_count": 107,
      "outputs": []
    },
    {
      "cell_type": "code",
      "source": [
        "\n",
        "missing_values = df.isnull().sum()\n",
        "print(\"Missing Values:\")\n",
        "print(missing_values) # No missing values to clean\n",
        "\n",
        "# Impute missing values for BMI\n",
        "df_train['bmi'].fillna(df_train['bmi'].mean(), inplace=True)\n",
        "df_test['bmi'].fillna(df_test['bmi'].mean(), inplace=True)\n",
        "df_train.isnull().sum() # No more NA Values"
      ],
      "metadata": {
        "id": "JXYip7juK1lL",
        "colab": {
          "base_uri": "https://localhost:8080/"
        },
        "outputId": "1a110621-a90c-4361-9002-10bd7b2afa3f"
      },
      "execution_count": 108,
      "outputs": [
        {
          "output_type": "stream",
          "name": "stdout",
          "text": [
            "Missing Values:\n",
            "Unnamed: 0             0\n",
            "id                     0\n",
            "gender                 0\n",
            "age                    0\n",
            "hypertension           0\n",
            "heart_disease          0\n",
            "ever_married           0\n",
            "work_type              0\n",
            "Residence_type         0\n",
            "avg_glucose_level      0\n",
            "bmi                  159\n",
            "smoking_status         0\n",
            "stroke                 0\n",
            "dtype: int64\n"
          ]
        },
        {
          "output_type": "execute_result",
          "data": {
            "text/plain": [
              "Unnamed: 0           0\n",
              "id                   0\n",
              "gender               0\n",
              "age                  0\n",
              "hypertension         0\n",
              "heart_disease        0\n",
              "ever_married         0\n",
              "work_type            0\n",
              "Residence_type       0\n",
              "avg_glucose_level    0\n",
              "bmi                  0\n",
              "smoking_status       0\n",
              "stroke               0\n",
              "dtype: int64"
            ]
          },
          "metadata": {},
          "execution_count": 108
        }
      ]
    },
    {
      "cell_type": "code",
      "source": [
        "from sklearn.linear_model import LinearRegression # Import linear regression model\n",
        "from sklearn.model_selection import train_test_split\n",
        "def pn(x):\n",
        "    print(x,'\\n')\n",
        "\n",
        "\n",
        "# Separate numeric and categorical columns\n",
        "num_cols = ['age', 'hypertension', 'heart_disease', 'avg_glucose_level', 'bmi']\n",
        "cat_cols = ['gender', 'ever_married', 'Residence_type', 'work_type', 'smoking_status']\n",
        "\n",
        "# Include 'stroke' column (target variable)\n",
        "y = df_train['stroke']\n",
        "\n",
        "ym = pd.DataFrame(df_train[num_cols + cat_cols])\n",
        "X_train, X_test, y_train, y_test = train_test_split(ym, y, test_size=0.2, random_state=42)\n",
        "X_train.head()\n",
        "\n",
        "reg = LinearRegression().fit(X_train[num_cols], y_train)\n",
        "pn(reg.intercept_) # Intercept value\n",
        "pn(reg.coef_) # Regression coefficients\n",
        "pn(reg.score(X_test[num_cols], y_test))  # R squared measure\n",
        "\n",
        "# Combine numeric and categorical data\n",
        "training_data_combined = pd.concat([df_train, df_test], axis=1)\n"
      ],
      "metadata": {
        "id": "uOtM7-VsbUwW",
        "colab": {
          "base_uri": "https://localhost:8080/"
        },
        "outputId": "6d275e21-a96f-41f3-8c5b-57b209557b0d"
      },
      "execution_count": 111,
      "outputs": [
        {
          "output_type": "stream",
          "name": "stdout",
          "text": [
            "-0.038673240583612274 \n",
            "\n",
            "[ 0.00199607  0.03937059  0.0835582   0.00038567 -0.00164138] \n",
            "\n",
            "0.047412580668185655 \n",
            "\n"
          ]
        }
      ]
    }
  ]
}